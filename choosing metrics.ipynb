{
 "cells": [
  {
   "cell_type": "code",
   "execution_count": 34,
   "metadata": {
    "collapsed": true
   },
   "outputs": [],
   "source": [
    "from sklearn.neighbors import KNeighborsRegressor\n",
    "from sklearn import datasets\n",
    "from sklearn.preprocessing import scale\n",
    "import numpy as np\n",
    "from sklearn.cross_validation import cross_val_score\n",
    "from sklearn.cross_validation import KFold"
   ]
  },
  {
   "cell_type": "code",
   "execution_count": 3,
   "metadata": {
    "collapsed": true
   },
   "outputs": [],
   "source": [
    "train_data = datasets.load_boston()"
   ]
  },
  {
   "cell_type": "code",
   "execution_count": 6,
   "metadata": {
    "collapsed": false
   },
   "outputs": [
    {
     "data": {
      "text/plain": [
       "sklearn.datasets.base.Bunch"
      ]
     },
     "execution_count": 6,
     "metadata": {},
     "output_type": "execute_result"
    }
   ],
   "source": [
    "type(train_data)"
   ]
  },
  {
   "cell_type": "code",
   "execution_count": 11,
   "metadata": {
    "collapsed": false
   },
   "outputs": [
    {
     "name": "stdout",
     "output_type": "stream",
     "text": [
      "['CRIM' 'ZN' 'INDUS' 'CHAS' 'NOX' 'RM' 'AGE' 'DIS' 'RAD' 'TAX' 'PTRATIO'\n",
      " 'B' 'LSTAT']\n"
     ]
    }
   ],
   "source": [
    "features = train_data.feature_names\n",
    "print features"
   ]
  },
  {
   "cell_type": "code",
   "execution_count": 23,
   "metadata": {
    "collapsed": false
   },
   "outputs": [],
   "source": [
    "# obtain features and target\n",
    "features = train_data.data\n",
    "target = train_data.target\n"
   ]
  },
  {
   "cell_type": "code",
   "execution_count": 26,
   "metadata": {
    "collapsed": false
   },
   "outputs": [],
   "source": [
    "# scaling features\n",
    "features = scale(features)\n"
   ]
  },
  {
   "cell_type": "code",
   "execution_count": 31,
   "metadata": {
    "collapsed": false
   },
   "outputs": [
    {
     "name": "stdout",
     "output_type": "stream",
     "text": [
      "[ 1.          1.04522613  1.09045226  1.13567839  1.18090452  1.22613065\n",
      "  1.27135678  1.31658291  1.36180905  1.40703518]\n"
     ]
    }
   ],
   "source": [
    "\n",
    "param_set = np.linspace(1,10,num=200)\n",
    "print param_set[:10]"
   ]
  },
  {
   "cell_type": "code",
   "execution_count": 112,
   "metadata": {
    "collapsed": false
   },
   "outputs": [],
   "source": [
    "def param_iterator(param_list, model=KNeighborsRegressor):\n",
    "    '''takes the list of parameters to iterate over and create regressors w/ those parameters'''\n",
    "    \n",
    "    model_list = {}\n",
    "    for elem in param_list:\n",
    "        regressor = model(n_neighbors=5, weights='distance', p=elem)\n",
    "        model_list.update({elem: regressor})\n",
    "    \n",
    "    return model_list\n",
    "\n"
   ]
  },
  {
   "cell_type": "code",
   "execution_count": 114,
   "metadata": {
    "collapsed": false
   },
   "outputs": [],
   "source": [
    "# build the list of KNR with different p's\n",
    "knr_list = param_iterator(param_set)\n"
   ]
  },
  {
   "cell_type": "code",
   "execution_count": 215,
   "metadata": {
    "collapsed": false
   },
   "outputs": [],
   "source": [
    "def get_crossValScore(model_list):\n",
    "    '''takes the model w/ different parameters and evaluates the cross validation score'''\n",
    "    model_list_keys = model_list.keys()\n",
    "    model_list_values = model_list.values()\n",
    "    \n",
    "    score_list = []\n",
    "    \n",
    "    score_dict = {}\n",
    "    \n",
    "    for model in model_list_values:\n",
    "        score = cross_val_score(model, features, y=target, scoring='mean_squared_error')\n",
    "        score_list.append(score)\n",
    "        \n",
    "    #score_dict = {key:value for key,value in model_list.iteritems()}\n",
    "    #model_list_items = model_list.viewitems()\n",
    "    \n",
    "    for elem in score_list:\n",
    "        #score = elem\n",
    "        for key,value in model_list.viewitems():\n",
    "            score_dict.update({key:elem})\n",
    "            \n",
    "        \n",
    "    \n",
    "        \n",
    "    \n",
    "    return score_dict\n",
    "        \n",
    "#validator = cross_val_score(kn_regressor, features, scoring='mean_squared_error')\n",
    "#model_accuracy = KFold(n_folds=5, random_state=42, shuffle=True)"
   ]
  },
  {
   "cell_type": "code",
   "execution_count": 216,
   "metadata": {
    "collapsed": false
   },
   "outputs": [
    {
     "name": "stdout",
     "output_type": "stream",
     "text": [
      "{1.0: array([-23.13310776, -64.15284205, -48.03515556])}\n"
     ]
    }
   ],
   "source": [
    "score_list = get_crossValScore(knr_list)\n",
    "print score_list\n"
   ]
  },
  {
   "cell_type": "code",
   "execution_count": 105,
   "metadata": {
    "collapsed": false
   },
   "outputs": [
    {
     "data": {
      "text/plain": [
       "-33.411037912906806"
      ]
     },
     "execution_count": 105,
     "metadata": {},
     "output_type": "execute_result"
    }
   ],
   "source": [
    "score_list_mean = []\n",
    "for elem in score_list:\n",
    "    score_list_mean.append(elem.mean())\n",
    "\n",
    "# get the maximum score mean from the list and associated p\n",
    "max(score_list_mean)"
   ]
  },
  {
   "cell_type": "code",
   "execution_count": 198,
   "metadata": {
    "collapsed": false
   },
   "outputs": [],
   "source": [
    "a = {1: 'a', 2: 'b'}"
   ]
  },
  {
   "cell_type": "code",
   "execution_count": null,
   "metadata": {
    "collapsed": false
   },
   "outputs": [],
   "source": []
  },
  {
   "cell_type": "code",
   "execution_count": 187,
   "metadata": {
    "collapsed": false
   },
   "outputs": [],
   "source": []
  },
  {
   "cell_type": "code",
   "execution_count": 183,
   "metadata": {
    "collapsed": false
   },
   "outputs": [],
   "source": []
  },
  {
   "cell_type": "code",
   "execution_count": 197,
   "metadata": {
    "collapsed": false
   },
   "outputs": [
    {
     "name": "stdout",
     "output_type": "stream",
     "text": [
      "4 1\n",
      "5 1\n",
      "6 1\n",
      "4 b\n",
      "5 b\n",
      "6 b\n"
     ]
    }
   ],
   "source": [
    "\n",
    "     "
   ]
  },
  {
   "cell_type": "code",
   "execution_count": null,
   "metadata": {
    "collapsed": true
   },
   "outputs": [],
   "source": []
  }
 ],
 "metadata": {
  "kernelspec": {
   "display_name": "Python 2",
   "language": "python",
   "name": "python2"
  },
  "language_info": {
   "codemirror_mode": {
    "name": "ipython",
    "version": 2
   },
   "file_extension": ".py",
   "mimetype": "text/x-python",
   "name": "python",
   "nbconvert_exporter": "python",
   "pygments_lexer": "ipython2",
   "version": "2.7.10"
  }
 },
 "nbformat": 4,
 "nbformat_minor": 0
}
