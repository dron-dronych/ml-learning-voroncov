{
 "cells": [
  {
   "cell_type": "code",
   "execution_count": 16,
   "metadata": {
    "collapsed": true
   },
   "outputs": [],
   "source": [
    "from sklearn.neighbors import KNeighborsRegressor\n",
    "from sklearn import datasets\n",
    "from sklearn.preprocessing import scale\n",
    "import numpy as np\n",
    "from sklearn.cross_validation import cross_val_score\n",
    "from sklearn.cross_validation import KFold\n",
    "import pandas as pd"
   ]
  },
  {
   "cell_type": "code",
   "execution_count": 2,
   "metadata": {
    "collapsed": true
   },
   "outputs": [],
   "source": [
    "train_data = datasets.load_boston()"
   ]
  },
  {
   "cell_type": "code",
   "execution_count": 3,
   "metadata": {
    "collapsed": false
   },
   "outputs": [
    {
     "data": {
      "text/plain": [
       "sklearn.datasets.base.Bunch"
      ]
     },
     "execution_count": 3,
     "metadata": {},
     "output_type": "execute_result"
    }
   ],
   "source": [
    "type(train_data)"
   ]
  },
  {
   "cell_type": "code",
   "execution_count": 4,
   "metadata": {
    "collapsed": false
   },
   "outputs": [
    {
     "name": "stdout",
     "output_type": "stream",
     "text": [
      "['CRIM' 'ZN' 'INDUS' 'CHAS' 'NOX' 'RM' 'AGE' 'DIS' 'RAD' 'TAX' 'PTRATIO'\n",
      " 'B' 'LSTAT']\n"
     ]
    }
   ],
   "source": [
    "features = train_data.feature_names\n",
    "print features"
   ]
  },
  {
   "cell_type": "code",
   "execution_count": 5,
   "metadata": {
    "collapsed": false
   },
   "outputs": [],
   "source": [
    "# obtain features and target\n",
    "features = train_data.data\n",
    "target = train_data.target\n"
   ]
  },
  {
   "cell_type": "code",
   "execution_count": 6,
   "metadata": {
    "collapsed": false
   },
   "outputs": [],
   "source": [
    "# scaling features\n",
    "features = scale(features)\n"
   ]
  },
  {
   "cell_type": "code",
   "execution_count": 7,
   "metadata": {
    "collapsed": false
   },
   "outputs": [
    {
     "name": "stdout",
     "output_type": "stream",
     "text": [
      "[ 1.          1.04522613  1.09045226  1.13567839  1.18090452  1.22613065\n",
      "  1.27135678  1.31658291  1.36180905  1.40703518]\n"
     ]
    }
   ],
   "source": [
    "\n",
    "param_set = np.linspace(1,10,num=200)\n",
    "print param_set[:10]"
   ]
  },
  {
   "cell_type": "code",
   "execution_count": 8,
   "metadata": {
    "collapsed": false
   },
   "outputs": [],
   "source": [
    "def param_iterator(param_list, model=KNeighborsRegressor):\n",
    "    '''takes the list of parameters to iterate over and create regressors w/ those parameters'''\n",
    "    \n",
    "    model_list = {}\n",
    "    for elem in param_list:\n",
    "        regressor = model(n_neighbors=5, weights='distance', p=elem)\n",
    "        model_list.update({elem: regressor})\n",
    "    \n",
    "    return model_list\n",
    "\n"
   ]
  },
  {
   "cell_type": "code",
   "execution_count": 9,
   "metadata": {
    "collapsed": false
   },
   "outputs": [],
   "source": [
    "# build the list of KNR with different p's\n",
    "knr_list = param_iterator(param_set)\n"
   ]
  },
  {
   "cell_type": "code",
   "execution_count": 13,
   "metadata": {
    "collapsed": false
   },
   "outputs": [],
   "source": [
    "def get_crossValScore(model_list):\n",
    "    '''takes the model w/ different parameters and evaluates the cross validation score'''\n",
    "    model_list_keys = model_list.keys()\n",
    "    model_list_values = model_list.values()\n",
    "    \n",
    "    score_list = []\n",
    "    \n",
    "    for model in model_list_values:\n",
    "        score = cross_val_score(model, features, y=target, scoring='mean_squared_error')\n",
    "        score_list.append(score)\n",
    "        \n",
    "    #score_dict = {key:value for key,value in model_list.iteritems()}\n",
    "    #model_list_items = model_list.viewitems()\n",
    "    \n",
    "    score_dict = dict(zip(model_list_keys, score_list))      \n",
    "      \n",
    "    return score_dict\n",
    "        \n",
    "#validator = cross_val_score(kn_regressor, features, scoring='mean_squared_error')\n",
    "#model_accuracy = KFold(n_folds=5, random_state=42, shuffle=True)"
   ]
  },
  {
   "cell_type": "code",
   "execution_count": 41,
   "metadata": {
    "collapsed": false
   },
   "outputs": [],
   "source": [
    "scores_params = get_crossValScore(knr_list)\n",
    "#print score_list\n"
   ]
  },
  {
   "cell_type": "code",
   "execution_count": 42,
   "metadata": {
    "collapsed": false
   },
   "outputs": [
    {
     "data": {
      "text/html": [
       "<div>\n",
       "<table border=\"1\" class=\"dataframe\">\n",
       "  <thead>\n",
       "    <tr style=\"text-align: right;\">\n",
       "      <th></th>\n",
       "      <th>0</th>\n",
       "      <th>1</th>\n",
       "      <th>2</th>\n",
       "    </tr>\n",
       "  </thead>\n",
       "  <tbody>\n",
       "    <tr>\n",
       "      <th>1.000000</th>\n",
       "      <td>-28.249489</td>\n",
       "      <td>-38.396370</td>\n",
       "      <td>-40.694440</td>\n",
       "    </tr>\n",
       "    <tr>\n",
       "      <th>3.577889</th>\n",
       "      <td>-22.319982</td>\n",
       "      <td>-56.298715</td>\n",
       "      <td>-43.269372</td>\n",
       "    </tr>\n",
       "    <tr>\n",
       "      <th>7.467337</th>\n",
       "      <td>-25.521623</td>\n",
       "      <td>-65.727381</td>\n",
       "      <td>-48.131459</td>\n",
       "    </tr>\n",
       "    <tr>\n",
       "      <th>4.437186</th>\n",
       "      <td>-23.121002</td>\n",
       "      <td>-62.689367</td>\n",
       "      <td>-47.601396</td>\n",
       "    </tr>\n",
       "    <tr>\n",
       "      <th>2.311558</th>\n",
       "      <td>-22.851286</td>\n",
       "      <td>-42.944868</td>\n",
       "      <td>-40.857731</td>\n",
       "    </tr>\n",
       "  </tbody>\n",
       "</table>\n",
       "</div>"
      ],
      "text/plain": [
       "                  0          1          2\n",
       "1.000000 -28.249489 -38.396370 -40.694440\n",
       "3.577889 -22.319982 -56.298715 -43.269372\n",
       "7.467337 -25.521623 -65.727381 -48.131459\n",
       "4.437186 -23.121002 -62.689367 -47.601396\n",
       "2.311558 -22.851286 -42.944868 -40.857731"
      ]
     },
     "execution_count": 42,
     "metadata": {},
     "output_type": "execute_result"
    }
   ],
   "source": [
    "# create new dataframe with parameters-score\n",
    "param_score_data = pd.DataFrame.from_dict(scores_params, orient='index')\n",
    "param_score_data.head()"
   ]
  },
  {
   "cell_type": "code",
   "execution_count": 54,
   "metadata": {
    "collapsed": false
   },
   "outputs": [
    {
     "name": "stdout",
     "output_type": "stream",
     "text": [
      "Maximal mean score is -33.411038 with the score of 1.723618\n"
     ]
    }
   ],
   "source": [
    "score_mean = param_score_data.mean(axis=1)\n",
    "score_mean_max = score_mean.max()\n",
    "\n",
    "# get the id of the score with maximal mean in the array\n",
    "score_mean_max_id = score_mean.idxmax()\n",
    "\n",
    "print 'Maximal mean score is %(score)f with the score of %(param)f' % {'score':score_mean_max, 'param':score_mean_max_id}"
   ]
  },
  {
   "cell_type": "code",
   "execution_count": null,
   "metadata": {
    "collapsed": false
   },
   "outputs": [],
   "source": []
  },
  {
   "cell_type": "code",
   "execution_count": null,
   "metadata": {
    "collapsed": false
   },
   "outputs": [],
   "source": []
  },
  {
   "cell_type": "code",
   "execution_count": 187,
   "metadata": {
    "collapsed": false
   },
   "outputs": [],
   "source": []
  },
  {
   "cell_type": "code",
   "execution_count": 183,
   "metadata": {
    "collapsed": false
   },
   "outputs": [],
   "source": []
  },
  {
   "cell_type": "code",
   "execution_count": null,
   "metadata": {
    "collapsed": false
   },
   "outputs": [],
   "source": [
    "\n",
    "     "
   ]
  },
  {
   "cell_type": "code",
   "execution_count": null,
   "metadata": {
    "collapsed": true
   },
   "outputs": [],
   "source": []
  }
 ],
 "metadata": {
  "kernelspec": {
   "display_name": "Python 2",
   "language": "python",
   "name": "python2"
  },
  "language_info": {
   "codemirror_mode": {
    "name": "ipython",
    "version": 2
   },
   "file_extension": ".py",
   "mimetype": "text/x-python",
   "name": "python",
   "nbconvert_exporter": "python",
   "pygments_lexer": "ipython2",
   "version": "2.7.10"
  }
 },
 "nbformat": 4,
 "nbformat_minor": 0
}
